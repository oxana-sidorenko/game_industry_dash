{
 "cells": [
  {
   "cell_type": "code",
   "execution_count": 1,
   "id": "70b1031c",
   "metadata": {},
   "outputs": [],
   "source": [
    "# Импортируем необходимые библиотеки и функции\n",
    "from dash import Dash, html, dcc, callback, Input, Output\n",
    "import plotly.express as px\n",
    "import plotly.graph_objects as go\n",
    "import pandas as pd\n",
    "import math"
   ]
  },
  {
   "cell_type": "code",
   "execution_count": 2,
   "id": "3d965b69",
   "metadata": {},
   "outputs": [],
   "source": [
    "# Читаем данные из файла\n",
    "df = pd.read_csv('games.csv')"
   ]
  },
  {
   "cell_type": "code",
   "execution_count": 3,
   "id": "cee962d5",
   "metadata": {},
   "outputs": [
    {
     "data": {
      "text/html": [
       "<div>\n",
       "<style scoped>\n",
       "    .dataframe tbody tr th:only-of-type {\n",
       "        vertical-align: middle;\n",
       "    }\n",
       "\n",
       "    .dataframe tbody tr th {\n",
       "        vertical-align: top;\n",
       "    }\n",
       "\n",
       "    .dataframe thead th {\n",
       "        text-align: right;\n",
       "    }\n",
       "</style>\n",
       "<table border=\"1\" class=\"dataframe\">\n",
       "  <thead>\n",
       "    <tr style=\"text-align: right;\">\n",
       "      <th></th>\n",
       "      <th>Name</th>\n",
       "      <th>Platform</th>\n",
       "      <th>Year_of_Release</th>\n",
       "      <th>Genre</th>\n",
       "      <th>Critic_Score</th>\n",
       "      <th>User_Score</th>\n",
       "      <th>Rating</th>\n",
       "    </tr>\n",
       "  </thead>\n",
       "  <tbody>\n",
       "    <tr>\n",
       "      <th>0</th>\n",
       "      <td>Wii Sports</td>\n",
       "      <td>Wii</td>\n",
       "      <td>2006.0</td>\n",
       "      <td>Sports</td>\n",
       "      <td>76.0</td>\n",
       "      <td>8</td>\n",
       "      <td>E</td>\n",
       "    </tr>\n",
       "    <tr>\n",
       "      <th>1</th>\n",
       "      <td>Super Mario Bros.</td>\n",
       "      <td>NES</td>\n",
       "      <td>1985.0</td>\n",
       "      <td>Platform</td>\n",
       "      <td>NaN</td>\n",
       "      <td>NaN</td>\n",
       "      <td>NaN</td>\n",
       "    </tr>\n",
       "    <tr>\n",
       "      <th>2</th>\n",
       "      <td>Mario Kart Wii</td>\n",
       "      <td>Wii</td>\n",
       "      <td>2008.0</td>\n",
       "      <td>Racing</td>\n",
       "      <td>82.0</td>\n",
       "      <td>8.3</td>\n",
       "      <td>E</td>\n",
       "    </tr>\n",
       "    <tr>\n",
       "      <th>3</th>\n",
       "      <td>Wii Sports Resort</td>\n",
       "      <td>Wii</td>\n",
       "      <td>2009.0</td>\n",
       "      <td>Sports</td>\n",
       "      <td>80.0</td>\n",
       "      <td>8</td>\n",
       "      <td>E</td>\n",
       "    </tr>\n",
       "    <tr>\n",
       "      <th>4</th>\n",
       "      <td>Pokemon Red/Pokemon Blue</td>\n",
       "      <td>GB</td>\n",
       "      <td>1996.0</td>\n",
       "      <td>Role-Playing</td>\n",
       "      <td>NaN</td>\n",
       "      <td>NaN</td>\n",
       "      <td>NaN</td>\n",
       "    </tr>\n",
       "  </tbody>\n",
       "</table>\n",
       "</div>"
      ],
      "text/plain": [
       "                       Name Platform  Year_of_Release         Genre  \\\n",
       "0                Wii Sports      Wii           2006.0        Sports   \n",
       "1         Super Mario Bros.      NES           1985.0      Platform   \n",
       "2            Mario Kart Wii      Wii           2008.0        Racing   \n",
       "3         Wii Sports Resort      Wii           2009.0        Sports   \n",
       "4  Pokemon Red/Pokemon Blue       GB           1996.0  Role-Playing   \n",
       "\n",
       "   Critic_Score User_Score Rating  \n",
       "0          76.0          8      E  \n",
       "1           NaN        NaN    NaN  \n",
       "2          82.0        8.3      E  \n",
       "3          80.0          8      E  \n",
       "4           NaN        NaN    NaN  "
      ]
     },
     "execution_count": 3,
     "metadata": {},
     "output_type": "execute_result"
    }
   ],
   "source": [
    "df.head()"
   ]
  },
  {
   "cell_type": "code",
   "execution_count": 4,
   "id": "7ab21ba8",
   "metadata": {},
   "outputs": [],
   "source": [
    "# Оставляем данные с 1990 по 2010 год\n",
    "df = df[(df['Year_of_Release'] >= 1990) & (df['Year_of_Release'] <= 2010)]"
   ]
  },
  {
   "cell_type": "code",
   "execution_count": 5,
   "id": "b9de8e75",
   "metadata": {},
   "outputs": [],
   "source": [
    "# Удаляем строки с пропусками\n",
    "df = df.dropna()"
   ]
  },
  {
   "cell_type": "code",
   "execution_count": 6,
   "id": "1891156e",
   "metadata": {},
   "outputs": [],
   "source": [
    "# Удаляем строки-дубликаты, если они есть\n",
    "df.drop_duplicates(inplace=True)"
   ]
  },
  {
   "cell_type": "code",
   "execution_count": 7,
   "id": "09de59d1",
   "metadata": {},
   "outputs": [
    {
     "name": "stdout",
     "output_type": "stream",
     "text": [
      "<class 'pandas.core.frame.DataFrame'>\n",
      "Index: 6124 entries, 0 to 16702\n",
      "Data columns (total 7 columns):\n",
      " #   Column           Non-Null Count  Dtype  \n",
      "---  ------           --------------  -----  \n",
      " 0   Name             6124 non-null   object \n",
      " 1   Platform         6124 non-null   object \n",
      " 2   Year_of_Release  6124 non-null   float64\n",
      " 3   Genre            6124 non-null   object \n",
      " 4   Critic_Score     6124 non-null   float64\n",
      " 5   User_Score       6124 non-null   object \n",
      " 6   Rating           6124 non-null   object \n",
      "dtypes: float64(2), object(5)\n",
      "memory usage: 382.8+ KB\n"
     ]
    }
   ],
   "source": [
    "# Посмотрим на типы данных\n",
    "df.info()"
   ]
  },
  {
   "cell_type": "code",
   "execution_count": 8,
   "id": "5caf664c",
   "metadata": {},
   "outputs": [
    {
     "data": {
      "text/plain": [
       "array(['8', '8.3', '8.5', '6.6', '8.4', '8.6', '7.7', '6.3', '7.4', '9',\n",
       "       '7.9', '8.7', '7.1', '8.9', '6.4', '7.8', '7.5', '9.2', '7.3',\n",
       "       '8.2', '7.6', '9.1', '8.8', '8.1', '9.4', '6.8', '7.2', '6.5',\n",
       "       '5.4', '9.3', '6', 'tbd', '4', '6.9', '6.7', '4.6', '7', '5.3',\n",
       "       '6.1', '5.7', '4.3', '6.2', '5.5', '5.2', '5.6', '5.9', '3.3',\n",
       "       '4.1', '4.4', '4.5', '1.9', '3.1', '5', '5.8', '2', '9.5', '5.1',\n",
       "       '3.4', '4.7', '2.6', '2.1', '3.6', '4.8', '4.2', '4.9', '3', '2.9',\n",
       "       '9.6', '3.7', '3.9', '2.8', '1.7', '3.5', '2.7', '3.8', '2.4',\n",
       "       '3.2', '1.2', '2.5', '2.3', '0.5', '1.8', '0.6', '0.9', '1', '1.4',\n",
       "       '1.5', '0.7', '2.2'], dtype=object)"
      ]
     },
     "execution_count": 8,
     "metadata": {},
     "output_type": "execute_result"
    }
   ],
   "source": [
    "df.User_Score.unique()"
   ]
  },
  {
   "cell_type": "code",
   "execution_count": 9,
   "id": "f068568c",
   "metadata": {},
   "outputs": [
    {
     "data": {
      "text/plain": [
       "0.16476159372958854"
      ]
     },
     "execution_count": 9,
     "metadata": {},
     "output_type": "execute_result"
    }
   ],
   "source": [
    "1 - (df.query('User_Score != \"tbd\"').shape[0] / df.shape[0])"
   ]
  },
  {
   "cell_type": "markdown",
   "id": "93a392f3",
   "metadata": {},
   "source": [
    "Согласно задаче из данных нужно исключить проекты, для которых имеются пропуски данных в любой из колонок.<br>\n",
    "'tbd' - это не явное пустое значение, то есть это не NaN, но `User_Score` в данном случае нам неизвестен.<br>\n",
    "Это значит, что игра еще не получила достаточного количества оценок игроков для расчета `User_Score`, то есть `User_Score` у таких игр сейчас невозможно определить.<br>\n",
    "Доля проектов с 'tbd' в `User_Score` ≈ 16% среди всех проектов 1990-2010 гг. без пропусков данных в любой из колонок, то есть мы не должны сильно потерять, если уберем их из датафрейма.<br>\n",
    "Итого будем использовать только те проекты, по которым известны все переменные: `Name`, `Platform`, `Year_of_Release`, `Genre`, `Critic_Score`, `User_Score` и `Rating`."
   ]
  },
  {
   "cell_type": "code",
   "execution_count": 10,
   "id": "400b0231",
   "metadata": {},
   "outputs": [],
   "source": [
    "df = df.query('User_Score != \"tbd\"')"
   ]
  },
  {
   "cell_type": "code",
   "execution_count": 11,
   "id": "2e0bb1fe",
   "metadata": {},
   "outputs": [],
   "source": [
    "df = df.astype({'Year_of_Release': 'int', 'User_Score': 'float'})"
   ]
  },
  {
   "cell_type": "code",
   "execution_count": 12,
   "id": "f708ad47",
   "metadata": {},
   "outputs": [
    {
     "data": {
      "text/plain": [
       "array(['E', 'M', 'T', 'E10+', 'AO', 'K-A'], dtype=object)"
      ]
     },
     "execution_count": 12,
     "metadata": {},
     "output_type": "execute_result"
    }
   ],
   "source": [
    "df.Rating.unique()"
   ]
  },
  {
   "cell_type": "markdown",
   "id": "adda0a08",
   "metadata": {},
   "source": [
    "Будем использовать информацию о рейтинге со страницы https://www.esrb.org/ratings-guide."
   ]
  },
  {
   "cell_type": "code",
   "execution_count": 13,
   "id": "adea1d34",
   "metadata": {},
   "outputs": [],
   "source": [
    "# Преобразование рейтинга в числовой вид\n",
    "rating_map = {\n",
    "    'E': 0,  # Everyone\n",
    "    'K-A': 0, # Kids to Adults (was used until the year 1998 when it renamed to E)\n",
    "    'E10+': 10,  # Everyone 10 and older\n",
    "    'T': 13,  # Teen\n",
    "    'M': 17,  # Mature\n",
    "    'AO': 18  # Adults Only\n",
    "}"
   ]
  },
  {
   "cell_type": "code",
   "execution_count": 14,
   "id": "f8da1f2f",
   "metadata": {},
   "outputs": [],
   "source": [
    "# Присваиваем числовые значения строковым и создаем новый столбец\n",
    "df['Numeric_Rating'] = df['Rating'].map(rating_map)"
   ]
  },
  {
   "cell_type": "code",
   "execution_count": 15,
   "id": "c6522994",
   "metadata": {},
   "outputs": [],
   "source": [
    "# Создание приложения Dash\n",
    "app = Dash(__name__)\n",
    "\n",
    "# Макет дашборда\n",
    "app.layout = html.Div([\n",
    "    html.Div([\n",
    "        html.H1('Game Industry Dashboard', style={'fontFamily': '\"Open Sans\", verdana, arial, sans-serif', 'font-size': '36px'}),\n",
    "        html.P([\n",
    "            'This dashboard analyzes video game trends from 1990 to 2010. The dashboard is based on games for which all the following data is known: name, platform, release year, genre, user and critic ratings and age ratings.', html.Br(),\n",
    "            'Use the filters to explore game releases by platform, genre and release year. Key metrics like total games, average user and critic ratings and age ratings are displayed, with interactive charts updating based on your selections'\n",
    "        ], style={'fontFamily': '\"Open Sans\", verdana, arial, sans-serif', 'font-size': '18px'}),\n",
    "    ], style={'backgroundColor': 'white', 'padding': '20px', 'margin-bottom': '20px'}),\n",
    "    \n",
    "    # Фильтры\n",
    "    html.Div([\n",
    "        html.Div([\n",
    "            html.Div([\n",
    "                html.Label('Platform', style={'fontFamily': '\"Open Sans\", verdana, arial, sans-serif', 'font-size': '22px'}),\n",
    "                dcc.Dropdown(\n",
    "                    id='platform_filter',\n",
    "                    options=[{'label': i, 'value': i} for i in sorted(df['Platform'].unique())],\n",
    "                    value=df['Platform'].unique(),\n",
    "                    multi=True,\n",
    "                    style={'fontFamily': '\"Open Sans\", verdana, arial, sans-serif', 'font-size': '18px'}\n",
    "                )\n",
    "            ], style={'display': 'inline-block', 'width': '33%', 'padding-right': '10px', 'vertical-align': 'top', 'textAlign': 'center'}),\n",
    "        \n",
    "            html.Div([\n",
    "                html.Label('Genre', style={'fontFamily': '\"Open Sans\", verdana, arial, sans-serif', 'font-size': '22px'}),\n",
    "                dcc.Dropdown(\n",
    "                    id='genre_filter',\n",
    "                    options=[{'label': i, 'value': i} for i in sorted(df['Genre'].unique())],\n",
    "                    value=df['Genre'].unique(),\n",
    "                    multi=True,\n",
    "                    style={'fontFamily': '\"Open Sans\", verdana, arial, sans-serif', 'font-size': '18px'}\n",
    "                )\n",
    "            ], style={'display': 'inline-block', 'width': '33%', 'padding-right': '10px', 'vertical-align': 'top', 'textAlign': 'center'}),\n",
    "\n",
    "            html.Div([\n",
    "                html.Label('Release Year', style={'fontFamily': '\"Open Sans\", verdana, arial, sans-serif', 'font-size': '22px'}),\n",
    "                dcc.RangeSlider(\n",
    "                    id='year_filter',\n",
    "                    min=df['Year_of_Release'].min(),\n",
    "                    max=df['Year_of_Release'].max(),\n",
    "                    step=1,\n",
    "                    value=[1990, 2010],\n",
    "                    marks={year: {'label': str(year), \n",
    "                                  'style': {'fontFamily': '\"Open Sans\", verdana, arial, sans-serif', 'font-size': '18px'}} for year in range(1990, 2011, 2)}\n",
    "                )\n",
    "            ], style={'display': 'inline-block', 'width': '33%', 'vertical-align': 'top', 'textAlign': 'center'}),\n",
    "        ], style={'display': 'flex', 'margin-bottom': '20px'}),\n",
    "    ], style={'backgroundColor': 'white', 'padding': '10px', 'margin-bottom': '20px'}),\n",
    "    \n",
    "    # Графики\n",
    "    html.Div([\n",
    "        # График 1: Общее число игр\n",
    "        html.Div(dcc.Graph(id='total_games'), style={'display': 'inline-block', 'width': '33%'}),\n",
    "        # График 2: Средняя оценка игроков\n",
    "        html.Div(dcc.Graph(id='avg_user_score'), style={'display': 'inline-block', 'width': '33%'}),\n",
    "        # График 3: Средняя оценка критиков\n",
    "        html.Div(dcc.Graph(id='avg_critic_score'), style={'display': 'inline-block', 'width': '33%'}),\n",
    "    ], style={'display': 'flex', 'justify-content': 'space-between', 'margin-bottom': '20px'}),\n",
    "\n",
    "    html.Div([\n",
    "        # График 4: Средний возрастной рейтинг по жанрам\n",
    "        html.Div(dcc.Graph(id='avg_age_by_genre'), style={'display': 'inline-block', 'width': '33%'}),\n",
    "        # График 5: Оценки игроков и критиков\n",
    "        html.Div(dcc.Graph(id='user_vs_critic_score_by_genre'), style={'display': 'inline-block', 'width': '33%'}),\n",
    "        # График 6: Выпуск игр по годам и платформам\n",
    "        html.Div(dcc.Graph(id='release_by_year_and_platform'), style={'display': 'inline-block', 'width': '33%'}),\n",
    "    ], style={'display': 'flex', 'justify-content': 'space-between'})\n",
    "], style={'backgroundColor': '#F0F0F0',\n",
    "          'padding-top': '20px', 'padding-left': '20px', 'padding-right': '20px', 'padding-bottom': '20px'})"
   ]
  },
  {
   "cell_type": "code",
   "execution_count": 16,
   "id": "9e2830e2",
   "metadata": {},
   "outputs": [],
   "source": [
    "# Обновление графиков\n",
    "@callback(\n",
    "    [Output('total_games', 'figure'),\n",
    "     Output('avg_user_score', 'figure'),\n",
    "     Output('avg_critic_score', 'figure'),\n",
    "     Output('avg_age_by_genre', 'figure'),\n",
    "     Output('user_vs_critic_score_by_genre', 'figure'),\n",
    "     Output('release_by_year_and_platform', 'figure')],\n",
    "    [Input('platform_filter', 'value'),\n",
    "     Input('genre_filter', 'value'),\n",
    "     Input('year_filter', 'value')]\n",
    ")\n",
    "def update_graphs(selected_platforms, selected_genres, selected_years):\n",
    "    # Фильтрация данных\n",
    "    filtered_df = df[(df['Platform'].isin(selected_platforms)) &\n",
    "                     (df['Genre'].isin(selected_genres)) &\n",
    "                     (df['Year_of_Release'] >= selected_years[0]) &\n",
    "                     (df['Year_of_Release'] <= selected_years[1])]\n",
    "\n",
    "    # График 1: Общее число игр\n",
    "    total_games_count = filtered_df.shape[0]\n",
    "    fig1 = go.Figure(go.Indicator(\n",
    "        mode='number',\n",
    "        value=total_games_count,\n",
    "        title={'text': 'Total Games'}\n",
    "    ))\n",
    "    fig1.update_layout(height=250)\n",
    "\n",
    "    # График 2: Средняя оценка игроков\n",
    "    avg_user_score = filtered_df['User_Score'].mean()\n",
    "    fig2 = go.Figure(go.Indicator(\n",
    "        mode='number',\n",
    "        value=avg_user_score,\n",
    "        title={'text': 'Average User Score'}\n",
    "    ))\n",
    "    fig2.update_layout(height=250)\n",
    "\n",
    "    # График 3: Средняя оценка критиков\n",
    "    avg_critic_score = filtered_df['Critic_Score'].mean()\n",
    "    fig3 = go.Figure(go.Indicator(\n",
    "        mode='number',\n",
    "        value=avg_critic_score,\n",
    "        title={'text': 'Average Critic Score'}\n",
    "    ))\n",
    "    fig3.update_layout(height=250)\n",
    "\n",
    "    # График 4: Средний возрастной рейтинг по жанрам\n",
    "    avg_age_by_genre = filtered_df.groupby('Genre')['Numeric_Rating'].mean().reset_index()\n",
    "    avg_age_by_genre['Numeric_Rating'] = avg_age_by_genre['Numeric_Rating'].apply(lambda x: math.floor(x)) # Округление в меньшую сторону\n",
    "    fig4 = px.bar(avg_age_by_genre, x='Genre', y='Numeric_Rating', title='Average Age Rating by Genre',\n",
    "                  labels={'Numeric_Rating': 'Average Age Rating'}) # Меняем название оси Y\n",
    "    fig4.update_traces(text=[f'{int(value)}+' for value in avg_age_by_genre['Numeric_Rating']], # Лейбл с +\n",
    "                       textposition='outside') # Лейбл над столбцами\n",
    "    fig4.update_layout(\n",
    "        title_x=0.5, # Центрируем название\n",
    "        hovermode=False, # Убираем hover\n",
    "        yaxis=dict(\n",
    "            range=[0, avg_age_by_genre['Numeric_Rating'].max() + 2], # Добавляем запас сверху\n",
    "            tickvals=list(range(0, int(avg_age_by_genre['Numeric_Rating'].max()) + 2, 2)), # Шаг оси Y\n",
    "            ticktext=[f'{x}+' for x in range(0, int(avg_age_by_genre['Numeric_Rating'].max()) + 2, 2)] # Добавляем + на оси Y\n",
    "        ),\n",
    "        title_font=dict(size=20) # Меняем размер шрифта\n",
    "    )\n",
    "\n",
    "    # График 5: Оценки игроков и критиков\n",
    "    fig5 = px.scatter(filtered_df, x='Critic_Score', y='User_Score', color='Genre',\n",
    "                      title='User and Critic Score by Genre',\n",
    "                      labels={'User_Score': 'User Score', 'Critic_Score': 'Critic Score'}) # Меняем названия осей X и Y\n",
    "    fig5.update_layout(title_x=0.5, title_font=dict(size=20)) # Центрируем название и меняем размер шрифта\n",
    "\n",
    "    # График 6: Выпуск игр по годам и платформам\n",
    "    release_by_year_and_platform = filtered_df.groupby(['Year_of_Release', 'Platform']).size().reset_index(name='Number of Games')\n",
    "    fig6 = px.area(release_by_year_and_platform, x='Year_of_Release', y='Number of Games', color='Platform',\n",
    "                   title='Release by Year and Platform',\n",
    "                   labels={'Year_of_Release': 'Release Year'}) # Меняем название оси X\n",
    "    fig6.update_layout(title_x=0.5, title_font=dict(size=20)) # Центрируем название и меняем размер шрифта\n",
    "    fig6.update_xaxes(dtick=1) # Шаг в 1 год\n",
    "\n",
    "    return fig1, fig2, fig3, fig4, fig5, fig6"
   ]
  },
  {
   "cell_type": "code",
   "execution_count": 17,
   "id": "6ace46ac",
   "metadata": {},
   "outputs": [
    {
     "name": "stdout",
     "output_type": "stream",
     "text": [
      "Dash app running on http://127.0.0.1:8050/\n"
     ]
    },
    {
     "data": {
      "application/javascript": [
       "window.open('http://127.0.0.1:8050/')"
      ],
      "text/plain": [
       "<IPython.core.display.Javascript object>"
      ]
     },
     "metadata": {},
     "output_type": "display_data"
    }
   ],
   "source": [
    "# Запуск приложения\n",
    "if __name__ == '__main__':\n",
    "    app.run(debug=True, jupyter_mode='tab')"
   ]
  }
 ],
 "metadata": {
  "kernelspec": {
   "display_name": "Python 3 (ipykernel)",
   "language": "python",
   "name": "python3"
  },
  "language_info": {
   "codemirror_mode": {
    "name": "ipython",
    "version": 3
   },
   "file_extension": ".py",
   "mimetype": "text/x-python",
   "name": "python",
   "nbconvert_exporter": "python",
   "pygments_lexer": "ipython3",
   "version": "3.11.5"
  }
 },
 "nbformat": 4,
 "nbformat_minor": 5
}
